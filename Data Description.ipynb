{
 "cells": [
  {
   "cell_type": "markdown",
   "metadata": {},
   "source": [
    "# Battle of Neighborhoods || Data Description"
   ]
  },
  {
   "cell_type": "markdown",
   "metadata": {},
   "source": [
    "Below are the data source that will be used in this Project."
   ]
  },
  {
   "cell_type": "markdown",
   "metadata": {},
   "source": [
    "# Wikipedia"
   ]
  },
  {
   "cell_type": "markdown",
   "metadata": {},
   "source": [
    "Link: https://en.wikipedia.org/wiki/List_of_communities_in_Dubai\n",
    "\n",
    "This wikipedia page provides list of all the communities in Dubai. Apart from that, it also provide some significant details of each community , like population and Area. This will provide us insight in to population density of each area, which is also a critical information in deciding one's residence.\n",
    "\n",
    "XML parsing will be done to get the required informations."
   ]
  },
  {
   "cell_type": "markdown",
   "metadata": {},
   "source": [
    "# propertymonitor.ae"
   ]
  },
  {
   "cell_type": "markdown",
   "metadata": {},
   "source": [
    "Link: https://www.propertymonitor.ae/research/uae-communities-index/dubai-rental-index.html\n",
    "\n",
    "This site will be used for getting info about median rent in different dubai communities.XML parsing will be done to get the required informations."
   ]
  },
  {
   "cell_type": "markdown",
   "metadata": {},
   "source": [
    "# Rent Mapping with Communities"
   ]
  },
  {
   "cell_type": "markdown",
   "metadata": {},
   "source": [
    "Since , we are getting List of Communities from Wikipedia and Rent indexes from propertymonitor.ae, they can't be directly merged on Community as community name will not be same. To address this problem, we will find location of communities in both Wikipedia and Property Monitor data. we will then identify nearest property monitor community to each wikipedia community list. Mediam rent of nearest community will be mapped with Wikipedia communities."
   ]
  },
  {
   "cell_type": "markdown",
   "metadata": {},
   "source": [
    "# Location Data"
   ]
  },
  {
   "cell_type": "markdown",
   "metadata": {},
   "source": [
    "Location data in form of [Latitude, Longitude] will be required for all our analysis. We will use geocoder library of python to get location data."
   ]
  },
  {
   "cell_type": "markdown",
   "metadata": {},
   "source": [
    "# Foursquare API Data"
   ]
  },
  {
   "cell_type": "markdown",
   "metadata": {},
   "source": [
    "We will need data about different venues in different neighborhoods of Dubai. In order to gain that information we will use \"Foursquare\" locational information. Four Square API is one of the most popular API for social exploration of any location. This can be used in getting venues around any location, exploring any venue, get details of any neighborhood facility with help of Tips, Rating etc. \n",
    "\n",
    "After finding the list of neighborhoods, we will connect to the Foursquare API to gather information about venues inside each and every neighborhood. For each neighborhood, we have chosen the radius to be 1000 meters.\n",
    "\n",
    "The data retrieved from Foursquare contains information of venues within the specified radius of longitude and latitude of the Neighborhood. The information obtained per venue as follows:\n",
    "\n",
    "1. Neighborhood\n",
    "2. Neighborhood Latitude\n",
    "3. Neighborhood Longitude\n",
    "4. Venue\n",
    "5. Name of the venue e.g. the name of a store or restaurant\n",
    "6. Venue Latitude\n",
    "7. Venue Longitude\n",
    "8. Venue Category"
   ]
  }
 ],
 "metadata": {
  "kernelspec": {
   "display_name": "Python 3",
   "language": "python",
   "name": "python3"
  },
  "language_info": {
   "codemirror_mode": {
    "name": "ipython",
    "version": 3
   },
   "file_extension": ".py",
   "mimetype": "text/x-python",
   "name": "python",
   "nbconvert_exporter": "python",
   "pygments_lexer": "ipython3",
   "version": "3.7.6"
  }
 },
 "nbformat": 4,
 "nbformat_minor": 4
}
