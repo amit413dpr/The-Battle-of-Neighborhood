{
 "cells": [
  {
   "cell_type": "markdown",
   "metadata": {},
   "source": [
    "# The Battle of Neighborhoods | Business Proposal | Introduction\n"
   ]
  },
  {
   "cell_type": "markdown",
   "metadata": {},
   "source": [
    "# Introduction:\n",
    "\n"
   ]
  },
  {
   "cell_type": "markdown",
   "metadata": {},
   "source": [
    "he UAE is home to over 200 nationalities. Emiratis constitute roughly 20% of the total population, making UAE home to one of the world's highest percentage of immigrants.Indians and Pakistanis form the largest expatriate groups in the country, constituting 28%  and 12% of the total population respectively 461,000 Westerners live in the United Arab Emirates, making up 5.1% of its total population.Most expatriates in the United Arab Emirates reside in Dubai and Abu Dhabi.\n",
    "\n",
    "This project focuses on dubai neighborhood.The purpose of this Project is to help people in exploring better facilities around their neighborhood. Apart from neighborhood facilities, Rent is also a critical thing in deciding neighborhood. This project will also provide rent distribution across dubai Neighborhoods.It will help people making smart and efficient decision on selecting great neighborhood out of numbers of other neighborhoods in Dubai, UAE.It will also help people in providing awareness of the area and neighborhood before moving to a new city, state, country or place for their work or to start a new fresh life.\n"
   ]
  },
  {
   "cell_type": "markdown",
   "metadata": {},
   "source": [
    "# Problem at Hand"
   ]
  },
  {
   "cell_type": "markdown",
   "metadata": {},
   "source": [
    "The projects addresses below Problems.\n",
    "\n",
    "    a) Analyze all the available Neighborhoods in Dubai, UAE\n",
    "    b) Analyze Accomodation Prices in the Neighbor hoods based upon online data available\n",
    "    c) Group Neighborhoods based upon Similarities\n",
    "    d) Suggest Low rent Neighborhoods among similar neighborhoods to facilitate a wise decision"
   ]
  },
  {
   "cell_type": "markdown",
   "metadata": {},
   "source": [
    "# Location"
   ]
  },
  {
   "cell_type": "markdown",
   "metadata": {},
   "source": [
    "Dubai is most popular destination for new immigrants in whole MENA region. As a result, it is one of the most diverse and multicultural areas with around 200 Nationalities living together.Dubai has headquartes of most of the business operating in MENA region. It is biggest Finance, Trading and Tourist Hub in the region.Although immigration has become a hot topic over the past few years with more governments seeking more restrictions on immigrants and refugees, the general trend of immigration into UAE has been on the rise."
   ]
  },
  {
   "cell_type": "markdown",
   "metadata": {},
   "source": [
    "# Foursquare API"
   ]
  },
  {
   "cell_type": "markdown",
   "metadata": {},
   "source": [
    "Four Square API is one of the most popular API for social exploration of any location. This can be used in getting venues around any location, exploring any venue, get details of any neighborhood facility with help of Tips, Rating etc.\n",
    "Four Square API will be used extentively in this project to explore the Neighborhood. Appart from this Data Scraping will also be done from wikipedia page and other site like www.propertymonitor.ae for analyzing rent situation."
   ]
  },
  {
   "cell_type": "markdown",
   "metadata": {},
   "source": [
    "# Clustering Approach"
   ]
  },
  {
   "cell_type": "markdown",
   "metadata": {},
   "source": [
    "To compare the similarities of two neighborhoods, we decided to explore neighborhoods, segment them, and group them into clusters to find similar neighborhoods in a big city like Dubai. We will use K-Means clustering algorithm to perform this clustering. K- Means Clustering is an unsupervised machine learning algorithm.  It aims to partition n observations into k clusters in which each observation belongs to the cluster with the nearest mean (cluster centers or cluster centroid), serving as a prototype of the cluster. "
   ]
  },
  {
   "cell_type": "markdown",
   "metadata": {},
   "source": [
    "# Libraries Used in Developing this Project"
   ]
  },
  {
   "cell_type": "markdown",
   "metadata": {},
   "source": [
    "Pandas: For creating and manipulating dataframes.\n",
    "\n",
    "Folium: Python visualization library would be used to visualize the neighborhoods cluster distribution of using interactive leaflet map.\n",
    "\n",
    "Scikit Learn: For importing k-means clustering.\n",
    "\n",
    "JSON: Library to handle JSON files.\n",
    "\n",
    "XML: To separate data from presentation and XML stores data in plain text format.\n",
    "\n",
    "Geocoder: To retrieve Location Data.\n",
    "\n",
    "Beautiful Soup and Requests: To scrap and library to handle http requests.\n",
    "\n",
    "Matplotlib: Python Plotting Module."
   ]
  }
 ],
 "metadata": {
  "kernelspec": {
   "display_name": "Python 3",
   "language": "python",
   "name": "python3"
  },
  "language_info": {
   "codemirror_mode": {
    "name": "ipython",
    "version": 3
   },
   "file_extension": ".py",
   "mimetype": "text/x-python",
   "name": "python",
   "nbconvert_exporter": "python",
   "pygments_lexer": "ipython3",
   "version": "3.7.6"
  }
 },
 "nbformat": 4,
 "nbformat_minor": 4
}
